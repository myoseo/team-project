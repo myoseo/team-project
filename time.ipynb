{
 "cells": [
  {
   "cell_type": "code",
   "execution_count": null,
   "metadata": {},
   "outputs": [],
   "source": [
    "class TimeSaver:\n",
    "    '''\n",
    "    def __init__(self, selected_puzzle_file, real_time):\n",
    "        self.selected_puzzle_file = selected_puzzle_file\n",
    "        self.real_time = real_time\n",
    "    '''\n",
    "    def time_save_file(self, index):\n",
    "            \n",
    "            time_path = os.path.join(path, \"time\")\n",
    "\n",
    "            # time 디렉토리가 없는 경우 생성, 디렉토리 파일이 이미 존재해도 오류 발생하지 않음\n",
    "            if not os.path.exists(time_path):\n",
    "                os.makedirs(time_path)\n",
    "\n",
    "            # index 사용하여 고유한 파일 이름 생성\n",
    "            # file_name, file_extension 분리 ex) a.json 파일에 index 1인 경우 a.1.json 저장\n",
    "            file_name, file_extension = os.path.splitext(self.selected_puzzle_file)\n",
    "            indexed_file_name = f\"{file_name}_{index}{file_extension}\"\n",
    "            \n",
    "            selected_time_path = os.path.join(time_path, indexed_file_name) \n",
    "\n",
    "            time_data = {\"real_time\": self.real_time}\n",
    "            with open(selected_time_path, \"w\") as file:\n",
    "                json.dump(time_data, file)"
   ]
  }
 ],
 "metadata": {
  "language_info": {
   "name": "python"
  }
 },
 "nbformat": 4,
 "nbformat_minor": 2
}
